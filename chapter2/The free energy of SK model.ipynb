{
 "cells": [
  {
   "cell_type": "markdown",
   "id": "98d146ac-589a-4e15-9113-67f57a0735bd",
   "metadata": {},
   "source": [
    "Xin Xiong @ HKBU"
   ]
  },
  {
   "cell_type": "markdown",
   "id": "7321c54d-95eb-45b0-b705-a8b1eac4857c",
   "metadata": {
    "tags": []
   },
   "source": [
    "## The free energy in the SK model by cavity method\n",
    "\n",
    "- The total free energy: $F = \\sum_{i} {\\Delta F_i} + \\sum_{a}{\\Delta F_{a}} - \\sum_{a}{|\\partial a| \\Delta F_{a}}$\n",
    "\n",
    "- The free energy shift due to adding the function node $a$ is given by:\n",
    "$$- \\beta \\Delta F_a = ln \\frac{Z^{new}}{Z^{old}} = ln[cosh(\\beta J_a) (1 + tanh(\\beta J_a) \\prod_{i \\in \\partial a} {m_{i \\to a}})]$$.\n",
    "\n",
    "- The free energy shift due to adding the variable node $i$ together with its neighboring function nodes $\\{b \\in \\partial i\\}$ is given by:\n",
    "$$- \\beta \\Delta F_i = ln \\frac{Z^{new}}{Z^{old}} = ln[\\prod_{b \\in \\partial i}{\\Lambda^{+}_{b \\to i} + \\prod_{b \\in \\partial i}{\\Lambda^{-}_{b \\to i}}}]$$\n",
    "where, $\\Lambda^{+}_{b \\to i} = cosh(\\beta J_b) (1 + tanh(\\beta J_b) \\prod_{j \\in \\partial b \\backslash i} {m_{j \\to b}})$, $\\Lambda^{-}_{b \\to i} = cosh(\\beta J_b) (1 - tanh(\\beta J_b) \\prod_{j \\in \\partial b \\backslash i} {m_{j \\to b}})$.\n"
   ]
  },
  {
   "cell_type": "code",
   "execution_count": 1,
   "id": "65495e72-3531-48fd-a40a-5bce883c96af",
   "metadata": {},
   "outputs": [],
   "source": [
    "import numpy as np\n",
    "from scipy import stats\n",
    "from itertools import combinations, product\n",
    "import matplotlib.pyplot as plt"
   ]
  },
  {
   "cell_type": "code",
   "execution_count": 2,
   "id": "cfb0a09f-f3c7-4ac2-8012-6e79f8c8612a",
   "metadata": {},
   "outputs": [
    {
     "data": {
      "text/plain": [
       "['i0', 'i1', 'i2', 'i3']"
      ]
     },
     "execution_count": 2,
     "metadata": {},
     "output_type": "execute_result"
    }
   ],
   "source": [
    "# define the number of variable nodes\n",
    "n = 4\n",
    "beta = 10\n",
    "variable_nodes = ['i' + str(inx) for inx in range(n)]\n",
    "variable_nodes"
   ]
  },
  {
   "cell_type": "code",
   "execution_count": 3,
   "id": "4c590aba-964a-4482-af32-3267dbf30656",
   "metadata": {},
   "outputs": [
    {
     "data": {
      "text/plain": [
       "[('i0', 'i1'),\n",
       " ('i0', 'i2'),\n",
       " ('i0', 'i3'),\n",
       " ('i1', 'i2'),\n",
       " ('i1', 'i3'),\n",
       " ('i2', 'i3')]"
      ]
     },
     "execution_count": 3,
     "metadata": {},
     "output_type": "execute_result"
    }
   ],
   "source": [
    "function_nodes = [f_node for f_node in combinations(variable_nodes, 2)]\n",
    "function_nodes"
   ]
  },
  {
   "cell_type": "code",
   "execution_count": 4,
   "id": "cb215080-583d-4e9b-ba60-bfeb2a4c6b2b",
   "metadata": {},
   "outputs": [],
   "source": [
    "norm_dis = stats.norm(loc=0, scale=1/n)  # loc means mean, scale means variance"
   ]
  },
  {
   "cell_type": "code",
   "execution_count": 5,
   "id": "64a1fe5d-850a-411a-8125-eaeecfe8b746",
   "metadata": {},
   "outputs": [
    {
     "data": {
      "text/plain": [
       "{('i0', 'i1'): 0.12417853825280817,\n",
       " ('i0', 'i2'): -0.034566075292796164,\n",
       " ('i0', 'i3'): 0.16192213452517312,\n",
       " ('i1', 'i2'): 0.38075746410200634,\n",
       " ('i1', 'i3'): -0.05853834368083399,\n",
       " ('i2', 'i3'): -0.05853423923729514}"
      ]
     },
     "execution_count": 5,
     "metadata": {},
     "output_type": "execute_result"
    }
   ],
   "source": [
    "norm_dis.random_state = 42\n",
    "interaction = norm_dis.rvs(len(function_nodes))\n",
    "J = dict(zip(function_nodes, interaction))\n",
    "J"
   ]
  },
  {
   "cell_type": "code",
   "execution_count": 6,
   "id": "c5e7a131-ff54-43b3-8bee-c5478058f39a",
   "metadata": {},
   "outputs": [
    {
     "data": {
      "text/plain": [
       "(0.08586991311151038, 0.1583357666583078)"
      ]
     },
     "execution_count": 6,
     "metadata": {},
     "output_type": "execute_result"
    }
   ],
   "source": [
    "np.mean(interaction), np.std(interaction)"
   ]
  },
  {
   "cell_type": "markdown",
   "id": "cfbeba87-58a5-42e9-a2b0-b2b069f4b982",
   "metadata": {},
   "source": [
    "### Calculate $h_{i \\to a}$ and $u_{a \\to i}$"
   ]
  },
  {
   "cell_type": "code",
   "execution_count": 7,
   "id": "f170fca6-9790-4baa-adee-92b0c41c89be",
   "metadata": {},
   "outputs": [],
   "source": [
    "def get_h_i2a(u_a_i, i2a, beta):\n",
    "    i, a = i2a\n",
    "    result_sum = 0\n",
    "    for k, v in u_a_i.items():\n",
    "        k_a, k_i = k\n",
    "        if k_i == i and k_a != a:\n",
    "            result_sum += beta * v\n",
    "    return 1/beta * result_sum\n",
    "\n",
    "def get_u_a2i(h_i_a, J, a2i, beta):\n",
    "    a, i = a2i\n",
    "    result_prod = 1\n",
    "    for k, v in h_i_a.items():\n",
    "        k_i, k_a = k\n",
    "        if k_a == a and k_i != i:\n",
    "            result_prod *= np.tanh(beta*v)\n",
    "    return 1/beta * np.arctanh( np.tanh(beta * J[a]) * result_prod )"
   ]
  },
  {
   "cell_type": "code",
   "execution_count": 8,
   "id": "569140ff-1dca-4087-94c3-fd1b58075d0f",
   "metadata": {
    "tags": []
   },
   "outputs": [
    {
     "data": {
      "text/plain": [
       "{('i0', ('i0', 'i1')): None,\n",
       " ('i0', ('i0', 'i2')): None,\n",
       " ('i0', ('i0', 'i3')): None,\n",
       " ('i1', ('i0', 'i1')): None,\n",
       " ('i1', ('i1', 'i2')): None,\n",
       " ('i1', ('i1', 'i3')): None,\n",
       " ('i2', ('i0', 'i2')): None,\n",
       " ('i2', ('i1', 'i2')): None,\n",
       " ('i2', ('i2', 'i3')): None,\n",
       " ('i3', ('i0', 'i3')): None,\n",
       " ('i3', ('i1', 'i3')): None,\n",
       " ('i3', ('i2', 'i3')): None}"
      ]
     },
     "execution_count": 8,
     "metadata": {},
     "output_type": "execute_result"
    }
   ],
   "source": [
    "# initializing h_i2a, variable node -> function node\n",
    "h_i2a = {}\n",
    "for v_node in variable_nodes:\n",
    "    for f_node in function_nodes:\n",
    "        if v_node in f_node:\n",
    "            h_i2a[(v_node, f_node)] = None\n",
    "h_i2a"
   ]
  },
  {
   "cell_type": "code",
   "execution_count": 9,
   "id": "e913ea9c-4c35-4675-abaa-dd8b6836fa31",
   "metadata": {
    "tags": []
   },
   "outputs": [
    {
     "data": {
      "text/plain": [
       "{(('i0', 'i1'), 'i0'): 0.9438512253354328,\n",
       " (('i0', 'i1'), 'i1'): 0.5618119492629121,\n",
       " (('i0', 'i2'), 'i0'): 0.8843671316723477,\n",
       " (('i0', 'i2'), 'i2'): 0.29487879092992964,\n",
       " (('i0', 'i3'), 'i0'): 0.5132819935662497,\n",
       " (('i0', 'i3'), 'i3'): 0.10050728604440706,\n",
       " (('i1', 'i2'), 'i1'): 0.8365160423233972,\n",
       " (('i1', 'i2'), 'i2'): 0.6938214629896227,\n",
       " (('i1', 'i3'), 'i1'): 0.14656520275272078,\n",
       " (('i1', 'i3'), 'i3'): 0.5671009397845732,\n",
       " (('i2', 'i3'), 'i2'): 0.9151477064930152,\n",
       " (('i2', 'i3'), 'i3'): 0.48611511791642026}"
      ]
     },
     "execution_count": 9,
     "metadata": {},
     "output_type": "execute_result"
    }
   ],
   "source": [
    "# initializing u_b2i, function node -> variable node\n",
    "u_a2i = {}\n",
    "for f_node in function_nodes:\n",
    "    for v_node in f_node:\n",
    "        u_a2i[(f_node, v_node)] = np.random.random()\n",
    "u_a2i"
   ]
  },
  {
   "cell_type": "markdown",
   "id": "eb92fbe3-979b-482e-85a8-14b02fc9264c",
   "metadata": {},
   "source": [
    "#### Solve $h$ and $u$ iteratively"
   ]
  },
  {
   "cell_type": "code",
   "execution_count": 10,
   "id": "d24c41f7-aeb6-4948-9be4-195bca295610",
   "metadata": {
    "tags": []
   },
   "outputs": [],
   "source": [
    "delta_u_a2i_list = []\n",
    "u_a2i_old = np.array(list(u_a2i.values()))\n",
    "while 1:\n",
    "    # print(u_a2i_old)\n",
    "    for i2a in h_i2a.keys():\n",
    "        h_i2a[i2a] = get_h_i2a(u_a_i=u_a2i, i2a=i2a, beta=beta)\n",
    "    for a2i in u_a2i.keys():\n",
    "        u_a2i[a2i] = get_u_a2i(h_i_a=h_i2a, J=J, a2i=a2i, beta=beta)\n",
    "    u_a2i_new = np.array(list(u_a2i.values()))\n",
    "    delta_u_a2i = np.sum(u_a2i_old - u_a2i_new)\n",
    "    delta_u_a2i_list.append(delta_u_a2i)\n",
    "    # print(delta_u_a2i)\n",
    "    if np.abs(delta_u_a2i) < 1e-6:\n",
    "        break\n",
    "    u_a2i_old = u_a2i_new.copy()"
   ]
  },
  {
   "cell_type": "code",
   "execution_count": 11,
   "id": "7abea4df-4be7-4e99-baa1-85940545447e",
   "metadata": {},
   "outputs": [
    {
     "data": {
      "text/plain": [
       "({(('i0', 'i1'), 'i0'): 0.017760475132422977,\n",
       "  (('i0', 'i1'), 'i1'): -0.01411901751294757,\n",
       "  (('i0', 'i2'), 'i0'): -0.011776782592080872,\n",
       "  (('i0', 'i2'), 'i2'): 0.003386240734264747,\n",
       "  (('i0', 'i3'), 'i0'): -0.019220009821573743,\n",
       "  (('i0', 'i3'), 'i3'): -0.008787756909824173,\n",
       "  (('i1', 'i2'), 'i1'): 0.0179965805241015,\n",
       "  (('i1', 'i2'), 'i2'): 0.01642698683500502,\n",
       "  (('i1', 'i3'), 'i1'): 0.015618866804475166,\n",
       "  (('i1', 'i3'), 'i3'): -0.007521400752717837,\n",
       "  (('i2', 'i3'), 'i2'): 0.014512152406766267,\n",
       "  (('i2', 'i3'), 'i3'): -0.014614523170320096},\n",
       " {('i0', ('i0', 'i1')): -0.016734308078550374,\n",
       "  ('i0', ('i0', 'i2')): -0.010215010555148674,\n",
       "  ('i0', ('i0', 'i3')): -0.009509469502177143,\n",
       "  ('i1', ('i0', 'i1')): 0.021083299300090258,\n",
       "  ('i1', ('i1', 'i2')): 0.016443482936061092,\n",
       "  ('i1', ('i1', 'i3')): 0.014354755272029751,\n",
       "  ('i2', ('i0', 'i2')): 0.03683384931500936,\n",
       "  ('i2', ('i1', 'i2')): 0.018014717624945244,\n",
       "  ('i2', ('i2', 'i3')): 0.028291373533284866,\n",
       "  ('i3', ('i0', 'i3')): -0.020833377176152648,\n",
       "  ('i3', ('i1', 'i3')): -0.030318882311416457,\n",
       "  ('i3', ('i2', 'i3')): -0.02808548648442438})"
      ]
     },
     "execution_count": 11,
     "metadata": {},
     "output_type": "execute_result"
    }
   ],
   "source": [
    "u_a2i, h_i2a"
   ]
  },
  {
   "cell_type": "code",
   "execution_count": 12,
   "id": "ec5a0fd9-4911-4451-8e31-65d3eb198cd1",
   "metadata": {},
   "outputs": [
    {
     "data": {
      "text/plain": [
       "7679"
      ]
     },
     "execution_count": 12,
     "metadata": {},
     "output_type": "execute_result"
    }
   ],
   "source": [
    "len(delta_u_a2i_list)"
   ]
  },
  {
   "cell_type": "markdown",
   "id": "f4da5d55-b8a7-43f3-a80e-f0aeca9cdc40",
   "metadata": {},
   "source": [
    "### Calculate $m_{i \\to a}$\n",
    "$m_{i \\to a} = tanh(\\beta h_{i \\to a})$"
   ]
  },
  {
   "cell_type": "code",
   "execution_count": 13,
   "id": "c168ae11-2637-42d5-9c49-fa817ac17e57",
   "metadata": {},
   "outputs": [],
   "source": [
    "def get_m_i2a(h_i2a, i2a, beta):\n",
    "    return np.tanh(beta * h_i2a[i2a])"
   ]
  },
  {
   "cell_type": "code",
   "execution_count": 14,
   "id": "8c8c21a3-bb34-414c-96b7-bb2128f8dbb5",
   "metadata": {},
   "outputs": [
    {
     "data": {
      "text/plain": [
       "{('i0', ('i0', 'i1')): -0.16579830672399143,\n",
       " ('i0', ('i0', 'i2')): -0.10179628228854806,\n",
       " ('i0', ('i0', 'i3')): -0.09480908095920465,\n",
       " ('i1', ('i0', 'i1')): 0.20776367374670507,\n",
       " ('i1', ('i1', 'i2')): 0.16296864401282732,\n",
       " ('i1', ('i1', 'i3')): 0.14256963676506001,\n",
       " ('i2', ('i0', 'i2')): 0.3525375553322079,\n",
       " ('i2', ('i1', 'i2')): 0.17822337326048282,\n",
       " ('i2', ('i2', 'i3')): 0.27559965881452536,\n",
       " ('i3', ('i0', 'i3')): -0.2053710958935026,\n",
       " ('i3', ('i1', 'i3')): -0.29422810413629685,\n",
       " ('i3', ('i2', 'i3')): -0.27369609274850737}"
      ]
     },
     "execution_count": 14,
     "metadata": {},
     "output_type": "execute_result"
    }
   ],
   "source": [
    "m_i2a = {}\n",
    "for i2a, v in h_i2a.items():\n",
    "    m_i2a[i2a] = get_m_i2a(h_i2a=h_i2a, i2a=i2a, beta=beta)\n",
    "m_i2a"
   ]
  },
  {
   "cell_type": "markdown",
   "id": "63620fa0-8f25-4087-a8a1-be07363efb64",
   "metadata": {},
   "source": [
    "### Calculate $\\Delta F_a$\n",
    "$$- \\beta \\Delta F_a = ln \\frac{Z^{new}}{Z^{old}} = ln[cosh(\\beta J_a) (1 + tanh(\\beta J_a) \\prod_{i \\in \\partial a} {m_{i \\to a}})]$$"
   ]
  },
  {
   "cell_type": "code",
   "execution_count": 15,
   "id": "02830368-8fe9-482f-bd88-0c41a37e5bbd",
   "metadata": {},
   "outputs": [],
   "source": [
    "def base_f(J: dict, a: tuple, m_i2a: dict, symbol=1):\n",
    "    \"\"\"\n",
    "    Calculate the free energy shif due to adding a function node a\n",
    "    J: the interaction in each node pair\n",
    "    a: the current function node, a\n",
    "    m_i2a: the cavity magnetization of m_i when a was removed    \n",
    "    \"\"\"\n",
    "    result_prod = 1\n",
    "    for i in a:\n",
    "        for k, v in m_i2a.items():\n",
    "            k_i, k_a = k\n",
    "            if k_i == i and k_a != a:\n",
    "                result_prod *= v\n",
    "    return np.cosh(beta * J[a]) * (1 + symbol * np.tanh(beta * J[a])*result_prod)   "
   ]
  },
  {
   "cell_type": "code",
   "execution_count": 16,
   "id": "79a42f7f-c75a-4a6d-9a6e-4f85ca72a6bb",
   "metadata": {},
   "outputs": [],
   "source": [
    "def get_delta_f_a(J: dict, a: tuple, m_i2a: dict, beta=1):\n",
    "    \"\"\"\n",
    "    Calculate the free energy shif due to adding a function node a\n",
    "    J: the interaction in each node pair\n",
    "    a: the current function node, a\n",
    "    m_i2a: the cavity magnetization of m_i when a was removed\n",
    "    beta: \n",
    "    \"\"\"\n",
    "    base_result = base_f(J=J, a=a, m_i2a=m_i2a, symbol=1)\n",
    "    return - 1/beta * np.log(base_result)"
   ]
  },
  {
   "cell_type": "markdown",
   "id": "a86c65a0-4746-47b5-b8a8-adbb4eea7fb2",
   "metadata": {},
   "source": [
    "### Calculate $\\Delta F_i$\n",
    "$$- \\beta \\Delta F_i = ln \\frac{Z^{new}}{Z^{old}} = ln[\\prod_{b \\in \\partial i}{\\Lambda^{+}_{b \\to i} + \\prod_{b \\in \\partial i}{\\Lambda^{-}_{b \\to i}}}]$$\n",
    "where, $\\Lambda^{+}_{b \\to i} = cosh(\\beta J_b) (1 + tanh(\\beta J_b) \\prod_{j \\in \\partial b \\backslash i} {m_{j \\to b}})$, $\\Lambda^{-}_{b \\to i} = cosh(\\beta J_b) (1 - tanh(\\beta J_b) \\prod_{j \\in \\partial b \\backslash i} {m_{j \\to b}})$\n"
   ]
  },
  {
   "cell_type": "code",
   "execution_count": 17,
   "id": "8a45016e-5486-40b9-b7ec-c0d656f4b7a8",
   "metadata": {},
   "outputs": [],
   "source": [
    "def get_delta_f_i(J: dict, i: str, m_i2a: dict, function_nodes: list, beta=1):\n",
    "    \"\"\"\n",
    "    \n",
    "    \"\"\"\n",
    "    a_of_i = [a for a in function_nodes if i in a]\n",
    "    prod_part_plus = 1\n",
    "    prod_part_minus = 1\n",
    "    for a in a_of_i:\n",
    "        prod_part_plus *= base_f(J=J, a=a, m_i2a=m_i2a, symbol=1)\n",
    "        prod_part_minus *= base_f(J=J, a=a, m_i2a=m_i2a, symbol=-1)\n",
    "    return - 1/beta * np.log(prod_part_plus + prod_part_minus)"
   ]
  },
  {
   "cell_type": "markdown",
   "id": "c6e2f295-e664-486e-ae58-2c3c5f64939a",
   "metadata": {},
   "source": [
    "### Calculate the total free energy\n",
    "\n",
    " $F = \\sum_{i} {\\Delta F_i} + \\sum_{a}{\\Delta F_{a}} - \\sum_{a}{|\\partial a| \\Delta F_{a}}$"
   ]
  },
  {
   "cell_type": "code",
   "execution_count": 18,
   "id": "12824885-5267-4ad6-9565-e8cf05f3d499",
   "metadata": {},
   "outputs": [
    {
     "data": {
      "text/plain": [
       "-0.786306549007121"
      ]
     },
     "execution_count": 18,
     "metadata": {},
     "output_type": "execute_result"
    }
   ],
   "source": [
    "f = 0\n",
    "sum_f_a = 0\n",
    "sum_f_i = 0\n",
    "sum_last_item = 0\n",
    "for i in variable_nodes:\n",
    "    sum_f_i += get_delta_f_i(J=J, i=i, m_i2a=m_i2a, function_nodes=function_nodes, beta=beta)\n",
    "for a in function_nodes:\n",
    "    delta_f_a = get_delta_f_a(J=J, a=a, m_i2a=m_i2a, beta=beta)\n",
    "    sum_f_a += delta_f_a\n",
    "    sum_last_item += len(a) * delta_f_a\n",
    "# print(sum_f_a, sum_f_i, sum_last_item)\n",
    "f = sum_f_a + sum_f_i - sum_last_item\n",
    "f"
   ]
  },
  {
   "cell_type": "markdown",
   "id": "17811fa8-94b3-40e7-99f6-8c7130e87051",
   "metadata": {},
   "source": [
    "### Calculate $m_i$\n",
    "- $m_i = tanh(\\sum_{b \\in \\partial i}{\\beta u_{b \\to i}})$"
   ]
  },
  {
   "cell_type": "code",
   "execution_count": 19,
   "id": "1279e700-a779-4573-99e2-3db9f3cc6431",
   "metadata": {},
   "outputs": [],
   "source": [
    "def get_m_i(beta, u_a_i, i):\n",
    "    result_sum = 0\n",
    "    for k, v in u_a_i.items():\n",
    "        k_a, k_i = k\n",
    "        if i in k_a and k_i != i:  # the function node of i, but exclude i\n",
    "            result_sum += beta * v\n",
    "    return np.tanh(result_sum)"
   ]
  },
  {
   "cell_type": "code",
   "execution_count": 20,
   "id": "0fca8ed6-0d18-42ce-b3fd-1163b5d8dc93",
   "metadata": {},
   "outputs": [
    {
     "data": {
      "text/plain": [
       "{'i0': -0.19276311347217465,\n",
       " 'i1': 0.2605148022327441,\n",
       " 'i2': -0.08375061062281816,\n",
       " 'i3': 0.10867916020828047}"
      ]
     },
     "execution_count": 20,
     "metadata": {},
     "output_type": "execute_result"
    }
   ],
   "source": [
    "m_i = {}\n",
    "for i in variable_nodes:\n",
    "    m_i[i] = get_m_i(beta=beta, u_a_i=u_a2i, i=i)\n",
    "m_i"
   ]
  },
  {
   "cell_type": "markdown",
   "id": "06a79154-f2bc-401a-903c-5914f3657fdf",
   "metadata": {},
   "source": [
    "## Calculate the free energy by numerical enumeration\n",
    "- $F = -\\frac{1}{\\beta}lnZ$\n",
    "- $Z = \\sum_{\\sigma}{e^{-\\beta H(\\sigma)}}$\n",
    "- $H_N(\\sigma) = \\frac{1}{\\sqrt{N}} \\sum_{1 \\leq i < j \\leq N}{J_{ij}\\sigma_i \\sigma_j}$"
   ]
  },
  {
   "cell_type": "code",
   "execution_count": 21,
   "id": "11bf84f0-57d2-436e-8915-26a7e0d2d907",
   "metadata": {
    "tags": []
   },
   "outputs": [],
   "source": [
    "def get_h_sigma(n: int, sigma_dict: dict, J: dict):\n",
    "    \"\"\"\n",
    "    Calculate H_sigma for a single configuraion\n",
    "    n: the number of variable nodes (spins)\n",
    "    sigma_dict: sigma with key (variable name)\n",
    "    J: interaction, { function_node: f_interaction }\n",
    "    \"\"\"\n",
    "    h_sigma = 0\n",
    "    for k, v in J.items():\n",
    "        i, j = k\n",
    "        h_sigma += J[k] * sigma_dict[i] * sigma_dict[j]\n",
    "    return 1/np.sqrt(n) * h_sigma\n",
    "\n",
    "def get_z(beta: float, n: int):\n",
    "    \"\"\"\n",
    "    beta: \n",
    "    sigma: a list of all configurations, {-1, +1}^N\n",
    "    \"\"\"\n",
    "    if n > 16:\n",
    "        raise ValueError('Too big n')\n",
    "    norm_dis = stats.norm(loc=0, scale=1)\n",
    "    variable_nodes = ['i' + str(inx) for inx in range(n)]\n",
    "    function_nodes = [f_node for f_node in combinations(variable_nodes, 2)]\n",
    "    \n",
    "    spins = [[-1, 1]] * n\n",
    "    all_sigma = []\n",
    "    for element in product(*spins):\n",
    "        all_sigma.append(element)\n",
    "    print(f'Current n is {n}, there have {np.power(2, n)} items in the total configurations')\n",
    "    z_sum = 0\n",
    "    for sigma in all_sigma:\n",
    "        sigma_dict = dict(zip(variable_nodes, sigma))\n",
    "        interaction = norm_dis.rvs(len(function_nodes))\n",
    "        J = dict(zip(function_nodes, interaction))\n",
    "        h_sigma = get_h_sigma(n=n, sigma_dict=sigma_dict, J=J)\n",
    "        z_sum += np.power(np.e, -1 * beta * h_sigma)\n",
    "    # print(h_sigma_list)\n",
    "    return z_sum\n",
    "\n",
    "def get_f_by_z(z, beta):\n",
    "    return -1/beta * np.log(z)"
   ]
  },
  {
   "cell_type": "code",
   "execution_count": 22,
   "id": "63ae7c21-8c57-4698-beaf-d40ed369da7e",
   "metadata": {
    "tags": []
   },
   "outputs": [
    {
     "name": "stdout",
     "output_type": "stream",
     "text": [
      "Current n is 4, there have 16 items in the total configurations\n"
     ]
    }
   ],
   "source": [
    "# %%timeit\n",
    "z = get_z(beta=beta, n=n)"
   ]
  },
  {
   "cell_type": "code",
   "execution_count": 23,
   "id": "fba73624-d949-4141-a75b-aae3d2638ce2",
   "metadata": {},
   "outputs": [
    {
     "data": {
      "text/plain": [
       "3218235004.0983906"
      ]
     },
     "execution_count": 23,
     "metadata": {},
     "output_type": "execute_result"
    }
   ],
   "source": [
    "z"
   ]
  },
  {
   "cell_type": "code",
   "execution_count": 24,
   "id": "0604dde2-b7dc-44e7-9831-ca9cf028b8d0",
   "metadata": {},
   "outputs": [],
   "source": [
    "f = get_f_by_z(z=z, beta=beta)"
   ]
  },
  {
   "cell_type": "code",
   "execution_count": 25,
   "id": "dd6ca772-1b0c-4081-9f75-557a8758613a",
   "metadata": {},
   "outputs": [
    {
     "data": {
      "text/plain": [
       "-2.1892098910848445"
      ]
     },
     "execution_count": 25,
     "metadata": {},
     "output_type": "execute_result"
    }
   ],
   "source": [
    "f"
   ]
  }
 ],
 "metadata": {
  "kernelspec": {
   "display_name": "Python 3 (ipykernel)",
   "language": "python",
   "name": "python3"
  },
  "language_info": {
   "codemirror_mode": {
    "name": "ipython",
    "version": 3
   },
   "file_extension": ".py",
   "mimetype": "text/x-python",
   "name": "python",
   "nbconvert_exporter": "python",
   "pygments_lexer": "ipython3",
   "version": "3.8.13"
  }
 },
 "nbformat": 4,
 "nbformat_minor": 5
}
